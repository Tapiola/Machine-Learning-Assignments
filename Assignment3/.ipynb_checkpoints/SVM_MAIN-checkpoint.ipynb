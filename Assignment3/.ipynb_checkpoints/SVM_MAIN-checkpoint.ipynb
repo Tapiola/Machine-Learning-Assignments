{
 "cells": [
  {
   "cell_type": "code",
   "execution_count": 4,
   "metadata": {
    "collapsed": true
   },
   "outputs": [],
   "source": [
    "from sklearn import datasets\n",
    "from sklearn import svm\n",
    "import numpy as np\n",
    "import pandas as pd\n",
    "from sklearn.preprocessing import StandardScaler\n",
    "def get_train_data(train_file):\n",
    "    train = pd.read_csv(train_file).as_matrix()\n",
    "    Y_train = train[:, 0:1].copy().ravel()\n",
    "    X_train = train[:, 1:785].copy()\n",
    "    #rescale\n",
    "    sc = StandardScaler()\n",
    "    sc.fit(X_train)\n",
    "    X_train_std = sc.transform(X_train)\n",
    "    return (X_train_std,Y_train,sc)"
   ]
  },
  {
   "cell_type": "code",
   "execution_count": 5,
   "metadata": {
    "collapsed": true
   },
   "outputs": [],
   "source": [
    "def get_test_data(sc, test_file):\n",
    "    np.random.seed(7)\n",
    "    test = pd.read_csv(test_file).as_matrix()\n",
    "    Y_test = test[:, 0:1].copy()\n",
    "    X_test = test[:, 1:785].copy()\n",
    "    #rescale\n",
    "    X_test_std = sc.transform(X_test)  \n",
    "    return (X_test_std,Y_test)"
   ]
  },
  {
   "cell_type": "code",
   "execution_count": 6,
   "metadata": {},
   "outputs": [
    {
     "name": "stderr",
     "output_type": "stream",
     "text": [
      "/home/mariam/anaconda3/lib/python3.6/site-packages/sklearn/utils/validation.py:444: DataConversionWarning: Data with input dtype int64 was converted to float64 by StandardScaler.\n",
      "  warnings.warn(msg, DataConversionWarning)\n"
     ]
    },
    {
     "data": {
      "text/plain": [
       "['clothes.pkl']"
      ]
     },
     "execution_count": 6,
     "metadata": {},
     "output_type": "execute_result"
    }
   ],
   "source": [
    "from sklearn.svm import SVC\n",
    "X_train, Y_train, sc = get_train_data(train_file = \"fashion-mnist_train_small.csv\")\n",
    "clf = SVC(C=100.0, decision_function_shape='ovr', gamma=0.001, kernel='rbf')\n",
    "clf.fit(X_train, Y_train)\n",
    "from sklearn.externals import joblib\n",
    "joblib.dump(clf, 'clothes.pkl') "
   ]
  },
  {
   "cell_type": "code",
   "execution_count": 7,
   "metadata": {
    "collapsed": true
   },
   "outputs": [],
   "source": [
    "from sklearn.metrics import accuracy_score\n",
    "def clothes(sc,test_file):\n",
    "    X_test, Y_test = get_test_data(sc, test_file)\n",
    "    clf = joblib.load('clothes.pkl') \n",
    "    Y_pred = clf.predict(X_test)\n",
    "    print('Accuracy: %.4f' % accuracy_score(Y_test, Y_pred))"
   ]
  },
  {
   "cell_type": "code",
   "execution_count": 8,
   "metadata": {},
   "outputs": [
    {
     "name": "stderr",
     "output_type": "stream",
     "text": [
      "/home/mariam/anaconda3/lib/python3.6/site-packages/sklearn/utils/validation.py:444: DataConversionWarning: Data with input dtype int64 was converted to float64 by StandardScaler.\n",
      "  warnings.warn(msg, DataConversionWarning)\n"
     ]
    },
    {
     "name": "stdout",
     "output_type": "stream",
     "text": [
      "Accuracy: 0.8690\n"
     ]
    }
   ],
   "source": [
    "clothes(sc,test_file = \"fashion-mnist_test_small.csv\")"
   ]
  },
  {
   "cell_type": "code",
   "execution_count": null,
   "metadata": {
    "collapsed": true
   },
   "outputs": [],
   "source": []
  }
 ],
 "metadata": {
  "kernelspec": {
   "display_name": "Python 3",
   "language": "python",
   "name": "python3"
  },
  "language_info": {
   "codemirror_mode": {
    "name": "ipython",
    "version": 3
   },
   "file_extension": ".py",
   "mimetype": "text/x-python",
   "name": "python",
   "nbconvert_exporter": "python",
   "pygments_lexer": "ipython3",
   "version": "3.6.1"
  }
 },
 "nbformat": 4,
 "nbformat_minor": 2
}
