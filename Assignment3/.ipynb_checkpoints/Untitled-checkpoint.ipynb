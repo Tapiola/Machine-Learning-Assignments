{
 "cells": [
  {
   "cell_type": "code",
   "execution_count": 30,
   "metadata": {},
   "outputs": [],
   "source": [
    "from sklearn import datasets\n",
    "from sklearn import svm\n",
    "from sklearn.model_selection import train_test_split\n",
    "import numpy as np\n",
    "import pandas as pd\n",
    "train = pd.read_csv(\"fashion-mnist_train_small.csv\")\n",
    "Y = train.as_matrix()[:, 0:1]\n",
    "Y = Y.ravel()\n",
    "train = train.as_matrix()[:, 1:785]\n",
    "X = train.copy()\n",
    "test = pd.read_csv(\"fashion-mnist_test_small.csv\")\n",
    "Y_test = test.as_matrix()[:, 0:1]\n",
    "test = test.as_matrix()[:, 1:785]\n",
    "X_test = test.copy()\n",
    "X, X_test, Y, Y_test = train_test_split(X, Y, test_size=0.1, random_state=0)"
   ]
  },
  {
   "cell_type": "code",
   "execution_count": 31,
   "metadata": {},
   "outputs": [
    {
     "name": "stderr",
     "output_type": "stream",
     "text": [
      "/home/mariam/anaconda3/lib/python3.6/site-packages/sklearn/utils/validation.py:444: DataConversionWarning: Data with input dtype int64 was converted to float64 by StandardScaler.\n",
      "  warnings.warn(msg, DataConversionWarning)\n"
     ]
    }
   ],
   "source": [
    "from sklearn.preprocessing import StandardScaler\n",
    "sc = StandardScaler()\n",
    "sc.fit(X)\n",
    "X_train_std = sc.transform(X)\n",
    "X_test_std = sc.transform(X_test)"
   ]
  },
  {
   "cell_type": "code",
   "execution_count": 32,
   "metadata": {
    "collapsed": true
   },
   "outputs": [],
   "source": [
    "from sklearn.svm import SVC\n",
    "# lin_clf = SVC(C=0.05, gamma=0.001, kernel='linear')\n",
    "\n",
    "\n",
    "lin_clf = SVC(C=100.0, decision_function_shape='ovr', gamma=0.001, kernel='rbf')\n",
    "\n",
    "\n",
    "# from sklearn.svm import LinearSVC\n",
    "# lin_clf = LinearSVC(C=0.001, class_weight=None, dual=True, fit_intercept=True,\n",
    "#      intercept_scaling=1, loss='squared_hinge', max_iter=1000,\n",
    "#      multi_class='ovr', penalty='l2', random_state=None, tol=0.0001,\n",
    "#      verbose=0)\n",
    "\n",
    "\n",
    "lin_clf.fit(X_train_std, Y)\n",
    "\n",
    "# LinearSVC(C=0.7, class_weight=None, dual=True, fit_intercept=True,\n",
    "#      intercept_scaling=1, loss='squared_hinge', max_iter=3000,\n",
    "#      multi_class='ovr', penalty='l2', random_state=None, tol=0.0001,\n",
    "#      verbose=0)\n",
    "# SVC(C=1.0, cache_size=200, class_weight=None, coef0=0.0,\n",
    "#   decision_function_shape='ovr', degree=3, gamma=0.001, kernel='linear',\n",
    "#   max_iter=-1, probability=False, random_state=None, shrinking=True,\n",
    "#   tol=0.001, verbose=False)\n",
    "#SVC(C=1.0, gamma=0.001, kernel='linear')\n",
    "\n",
    "#dec = lin_clf.decision_function(X_test)\n",
    "Y_pred = lin_clf.predict(X_test_std)"
   ]
  },
  {
   "cell_type": "code",
   "execution_count": 33,
   "metadata": {},
   "outputs": [
    {
     "name": "stdout",
     "output_type": "stream",
     "text": [
      "Accuracy: 0.8917\n"
     ]
    }
   ],
   "source": [
    "from sklearn.metrics import accuracy_score\n",
    "print('Accuracy: %.4f' % accuracy_score(Y_test, Y_pred))"
   ]
  },
  {
   "cell_type": "code",
   "execution_count": null,
   "metadata": {
    "collapsed": true
   },
   "outputs": [],
   "source": []
  },
  {
   "cell_type": "code",
   "execution_count": null,
   "metadata": {
    "collapsed": true
   },
   "outputs": [],
   "source": []
  },
  {
   "cell_type": "code",
   "execution_count": null,
   "metadata": {
    "collapsed": true
   },
   "outputs": [],
   "source": []
  },
  {
   "cell_type": "code",
   "execution_count": null,
   "metadata": {
    "collapsed": true
   },
   "outputs": [],
   "source": []
  }
 ],
 "metadata": {
  "kernelspec": {
   "display_name": "Python 3",
   "language": "python",
   "name": "python3"
  },
  "language_info": {
   "codemirror_mode": {
    "name": "ipython",
    "version": 3
   },
   "file_extension": ".py",
   "mimetype": "text/x-python",
   "name": "python",
   "nbconvert_exporter": "python",
   "pygments_lexer": "ipython3",
   "version": "3.6.1"
  }
 },
 "nbformat": 4,
 "nbformat_minor": 2
}
